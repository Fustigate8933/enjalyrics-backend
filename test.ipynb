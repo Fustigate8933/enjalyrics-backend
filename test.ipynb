{
 "cells": [
  {
   "cell_type": "code",
   "execution_count": 1,
   "id": "f5f0bd2c",
   "metadata": {
    "lines_to_next_cell": 0
   },
   "outputs": [],
   "source": [
    "from lyricsgenius import Genius\n",
    "from dotenv import load_dotenv\n",
    "import os"
   ]
  },
  {
   "cell_type": "markdown",
   "id": "696aeac1",
   "metadata": {},
   "source": [
    "\n"
   ]
  },
  {
   "cell_type": "code",
   "execution_count": 2,
   "id": "e517c53c",
   "metadata": {
    "lines_to_next_cell": 2
   },
   "outputs": [],
   "source": [
    "def get_lyrics(song, artist):\n",
    "    load_dotenv(\"../.env\")\n",
    "    token = os.getenv(\"GENIUS_TOKEN\")\n",
    "    \n",
    "\n",
    "    genius = Genius(token)\n",
    "    song = genius.search_song(song, artist)\n",
    "\n",
    "    print(song)\n",
    "\n",
    "    if song is None:\n",
    "        return None\n",
    "\n",
    "    return song.lyrics"
   ]
  },
  {
   "cell_type": "code",
   "execution_count": 3,
   "id": "6becf2d9",
   "metadata": {},
   "outputs": [],
   "source": [
    "token = \"lxn9V1IwgK2pDmWlNYHpdAFae9A33vpnOWcmAC9d6W2uWLJ7kduq-fjfhY-cKdn_\"\n",
    "genius = Genius(token)"
   ]
  },
  {
   "cell_type": "code",
   "execution_count": 4,
   "id": "a5e1894b",
   "metadata": {},
   "outputs": [
    {
     "data": {
      "text/plain": [
       "Searching for \"akari\" by SoshI...\n"
      ]
     },
     "metadata": {},
     "output_type": "display_data"
    },
    {
     "data": {
      "text/plain": [
       "Done.\n",
       "\"燈 (Akari)\" by 崎山蒼志 (Soushi Sakiyama):\n",
       "    9 ContributorsTranslationsRomanizationEnglish燈 (Akari) Lyrics[崎山蒼志「燈」歌詞]\n",
       "    \n",
       "    [Verse 1]\n",
       "    僕の善意が壊れてゆく前に\n",
       "    君に全...\n"
      ]
     },
     "metadata": {},
     "output_type": "display_data"
    }
   ],
   "source": [
    "song = genius.search_song(\"akari\", \"SoshI\")\n",
    "print(song)"
   ]
  },
  {
   "cell_type": "code",
   "execution_count": 10,
   "id": "9ce8f568",
   "metadata": {
    "lines_to_next_cell": 0
   },
   "outputs": [
    {
     "data": {
      "text/plain": [
       "9103813"
      ]
     },
     "metadata": {},
     "output_type": "display_data"
    }
   ],
   "source": [
    "def lyrics_to_list(lyrics):\n",
    "    content = list(filter(None, lyrics.split(\"\\n\")))\n",
    "    return content[0], content[1:]\n",
    "song.id"
   ]
  },
  {
   "cell_type": "markdown",
   "id": "ec5394c0",
   "metadata": {},
   "source": []
  }
 ],
 "metadata": {
  "kernelspec": {
   "display_name": "Python 3 (ipykernel)",
   "language": "python",
   "name": "python3"
  },
  "language_info": {
   "codemirror_mode": {
    "name": "ipython",
    "version": 3
   },
   "file_extension": ".py",
   "mimetype": "text/x-python",
   "name": "python",
   "nbconvert_exporter": "python",
   "pygments_lexer": "ipython3",
   "version": "3.11.7"
  }
 },
 "nbformat": 4,
 "nbformat_minor": 5
}
