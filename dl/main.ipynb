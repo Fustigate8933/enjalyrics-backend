{
 "cells": [
  {
   "cell_type": "code",
   "execution_count": 4,
   "id": "6c5c184e",
   "metadata": {},
   "outputs": [
    {
     "data": {
      "text/plain": [
       "True"
      ]
     },
     "metadata": {},
     "output_type": "display_data"
    }
   ],
   "source": [
    "import torch\n",
    "torch.cuda.is_available()"
   ]
  },
  {
   "cell_type": "code",
   "execution_count": 5,
   "id": "a638054f",
   "metadata": {},
   "outputs": [
    {
     "data": {
      "text/plain": [
       "Special tokens have been added in the vocabulary, make sure the associated word embeddings are fine-tuned or trained.\n"
      ]
     },
     "metadata": {},
     "output_type": "display_data"
    },
    {
     "data": {
      "application/vnd.jupyter.widget-view+json": {
       "model_id": "99025fe7c457429cb71b23b8763c8498",
       "version_major": 2,
       "version_minor": 0
      },
      "text/plain": [
       "Loading checkpoint shards:   0%|          | 0/4 [00:00<?, ?it/s]"
      ]
     },
     "metadata": {},
     "output_type": "display_data"
    },
    {
     "data": {
      "text/plain": [
       "WARNING:root:Some parameters are on the meta device device because they were offloaded to the disk and cpu.\n"
      ]
     },
     "metadata": {},
     "output_type": "display_data"
    }
   ],
   "source": [
    "from transformers import AutoModelForCausalLM, AutoTokenizer, Trainer, TrainingArguments\n",
    "\n",
    "tokenizer = AutoTokenizer.from_pretrained(\"meta-llama/Meta-Llama-3-8B\")\n",
    "model = AutoModelForCausalLM.from_pretrained(\"meta-llama/Meta-Llama-3-8B\", device_map=\"auto\")\n"
   ]
  },
  {
   "cell_type": "code",
   "execution_count": 6,
   "id": "f5f0bd2c",
   "metadata": {},
   "outputs": [
    {
     "data": {
      "text/plain": [
       "1"
      ]
     },
     "metadata": {},
     "output_type": "display_data"
    }
   ],
   "source": [
    "tokenizer.add_special_tokens({\"pad_token\": \"[PAD]\"})"
   ]
  },
  {
   "cell_type": "code",
   "execution_count": 12,
   "id": "af5f5240",
   "metadata": {
    "lines_to_next_cell": 0
   },
   "outputs": [
    {
     "data": {
      "text/plain": [
       "{'input': '穿って 穿って不可解な衝動', 'output': [{'highlighted_text': '荒んで', 'translation': 'desolate; rough', 'start_index': 0, 'end_index': 3}, {'highlighted_text': '荒んで', 'translation': 'desolate; rough', 'start_index': 4, 'end_index': 7}, {'highlighted_text': '予測不可能', 'translation': 'unpredictable', 'start_index': 8, 'end_index': 13}, {'highlighted_text': '回答', 'translation': 'answer', 'start_index': 14, 'end_index': 16}]}\n"
      ]
     },
     "metadata": {},
     "output_type": "display_data"
    }
   ],
   "source": [
    "import json\n",
    "from datasets import Dataset\n",
    "\n",
    "def load_data(path):\n",
    "    with open(path, \"r\") as f:\n",
    "        data = [json.loads(line) for line in f]\n",
    "    \n",
    "\n",
    "load_data(\"data.jsonl\")"
   ]
  },
  {
   "cell_type": "markdown",
   "id": "0e96881f",
   "metadata": {},
   "source": [
    "\n",
    "\n",
    "\n",
    "\n",
    "\n",
    "\n",
    "\n",
    "\n",
    "\n",
    "\n",
    "\n",
    "\n",
    "\n",
    "\n",
    "\n",
    "\n",
    "\n",
    "\n",
    "\n"
   ]
  },
  {
   "cell_type": "code",
   "execution_count": null,
   "id": "f0911e68",
   "metadata": {
    "lines_to_next_cell": 0
   },
   "outputs": [],
   "source": [
    "import json\n",
    "with open('data.jsonl') as f:\n",
    "    data = [json.loads(line) for line in f]\n",
    "\n",
    "with open(\"data_.jsonl\", \"w\", encoding=\"utf-8\") as f:\n",
    "    for sample in data:\n",
    "        atad = {\"input\": \"\", \"output\": []}\n",
    "        for i in sample:\n",
    "            atad[\"input\"] = list(sample.keys())[0]\n",
    "            atad[\"output\"] = list(sample.values())[0]\n",
    "        json_line = json.dumps(atad, ensure_ascii=False)\n",
    "        f.write(json_line + \"\\n\")"
   ]
  },
  {
   "cell_type": "markdown",
   "id": "28f4192e",
   "metadata": {},
   "source": []
  }
 ],
 "metadata": {
  "kernelspec": {
   "display_name": "Python 3 (ipykernel)",
   "language": "python",
   "name": "python3"
  },
  "language_info": {
   "codemirror_mode": {
    "name": "ipython",
    "version": 3
   },
   "file_extension": ".py",
   "mimetype": "text/x-python",
   "name": "python",
   "nbconvert_exporter": "python",
   "pygments_lexer": "ipython3",
   "version": "3.11.7"
  }
 },
 "nbformat": 4,
 "nbformat_minor": 5
}
